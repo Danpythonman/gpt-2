{
 "cells": [
  {
   "cell_type": "code",
   "execution_count": 1,
   "id": "a1830acf",
   "metadata": {},
   "outputs": [
    {
     "name": "stderr",
     "output_type": "stream",
     "text": [
      "/home/daniel/miniconda3/envs/ml_cuda12.2/lib/python3.12/site-packages/tqdm/auto.py:21: TqdmWarning: IProgress not found. Please update jupyter and ipywidgets. See https://ipywidgets.readthedocs.io/en/stable/user_install.html\n",
      "  from .autonotebook import tqdm as notebook_tqdm\n"
     ]
    }
   ],
   "source": [
    "import torch\n",
    "from torch.nn import functional as F\n",
    "\n",
    "import tiktoken\n",
    "\n",
    "from transformers import GPT2LMHeadModel, set_seed\n",
    "\n",
    "from gpt2 import GPT"
   ]
  },
  {
   "cell_type": "code",
   "execution_count": 2,
   "id": "fc0413d1",
   "metadata": {},
   "outputs": [],
   "source": [
    "num_return_sequences = 5\n",
    "max_length = 30\n",
    "enc = tiktoken.get_encoding('gpt2')"
   ]
  },
  {
   "cell_type": "code",
   "execution_count": 3,
   "id": "0b2a4e59",
   "metadata": {},
   "outputs": [
    {
     "name": "stdout",
     "output_type": "stream",
     "text": [
      "Loading weights from pretrained GPT gpt2\n",
      "\n",
      "> Hello, I'm a language model, not a program.\n",
      "\n",
      "So this morning I started studying for the interview in the lab. This was not\n",
      "\n",
      "> Hello, I'm a language model, and one of the reasons I love studying languages, to think that it can be a lot easier for those who\n",
      "\n",
      "> Hello, I'm a language model, and I wrote it off on the grounds that a language model would make me more fluent. But I'm not\n",
      "\n",
      "> Hello, I'm a language model, I really like languages. I like languages because like, they're good. And the way we talk about languages\n",
      "\n",
      "> Hello, I'm a language model, a language model I'm using for data modelling. All I did was test the results and then I wrote some\n"
     ]
    }
   ],
   "source": [
    "torch.manual_seed(42)\n",
    "torch.cuda.manual_seed(42)\n",
    "set_seed(42)\n",
    "\n",
    "tokens = enc.encode(\"Hello, I'm a language model,\")\n",
    "\n",
    "model = GPT.from_pretrained('gpt2')\n",
    "model.eval()\n",
    "model.to('cuda')\n",
    "\n",
    "tokens = torch.tensor(tokens, dtype=torch.long)              # (T,)\n",
    "tokens = tokens.unsqueeze(0).repeat(num_return_sequences, 1) # (B, T)\n",
    "x = tokens.to('cuda')                                        # (B, T)\n",
    "\n",
    "while x.shape[1] < max_length:\n",
    "    with torch.no_grad():\n",
    "        logits = model(x)                 # (B, T, vocab_size)\n",
    "        logits = logits[:, -1, :]         # (B, vocab_size)\n",
    "        probs = F.softmax(logits, dim=-1) # (B, vocab_size)\n",
    "\n",
    "        # Both `topk_probs` and `topk_indices` are tensors of shape `(B, 50)`\n",
    "        topk_probs, topk_indices = torch.topk(probs, 50, dim=-1)\n",
    "\n",
    "        ix = torch.multinomial(topk_probs, num_samples=1)   # (B, 1)\n",
    "        xcol = torch.gather(topk_indices, dim=-1, index=ix) # (B, 1)\n",
    "        x = torch.cat((x, xcol), dim=1)                     # (B, T+1)\n",
    "\n",
    "for i in range(num_return_sequences):\n",
    "    tokens = x[i, :max_length].tolist()\n",
    "    decoded = enc.decode(tokens)\n",
    "    print(f'\\n> {decoded}')"
   ]
  },
  {
   "cell_type": "code",
   "execution_count": 4,
   "id": "478e5f33",
   "metadata": {},
   "outputs": [
    {
     "name": "stdout",
     "output_type": "stream",
     "text": [
      "\n",
      "> Hello, I'm a language model, not a program.\n",
      "\n",
      "So this morning I started studying for the interview in the lab. This was not\n",
      "\n",
      "> Hello, I'm a language model, and one of the main things that bothers me when they create languages is how easy it becomes to create something that\n",
      "\n",
      "> Hello, I'm a language model, and I wrote it off on the grounds that a language model would make me more fluent. But I'm not\n",
      "\n",
      "> Hello, I'm a language model, I really like languages. I like languages because like, they're good. And the way we talk about languages\n",
      "\n",
      "> Hello, I'm a language model, a language model I'm using for data modelling. All I did was test the results and then I wrote some\n"
     ]
    }
   ],
   "source": [
    "torch.manual_seed(42)\n",
    "torch.cuda.manual_seed(42)\n",
    "set_seed(42)\n",
    "\n",
    "tokens = enc.encode(\"Hello, I'm a language model,\")\n",
    "model = GPT2LMHeadModel.from_pretrained('gpt2')\n",
    "model.eval()\n",
    "model.to('cuda')\n",
    "\n",
    "tokens = torch.tensor(tokens, dtype=torch.long)              # (T,)\n",
    "tokens = tokens.unsqueeze(0).repeat(num_return_sequences, 1) # (B, T)\n",
    "x = tokens.to('cuda')                                        # (B, T)\n",
    "\n",
    "while x.shape[1] < max_length:\n",
    "    with torch.no_grad():\n",
    "        logits = model(x)[0]              # (B, T, vocab_size)\n",
    "        logits = logits[:, -1, :]         # (B, vocab_size)\n",
    "        probs = F.softmax(logits, dim=-1) # (B, vocab_size)\n",
    "\n",
    "        # Both `topk_probs` and `topk_indices` are tensors of shape `(B, 50)`\n",
    "        topk_probs, topk_indices = torch.topk(probs, 50, dim=-1)\n",
    "\n",
    "        ix = torch.multinomial(topk_probs, num_samples=1)   # (B, 1)\n",
    "        xcol = torch.gather(topk_indices, dim=-1, index=ix) # (B, 1)\n",
    "        x = torch.cat((x, xcol), dim=1)                     # (B, T+1)\n",
    "\n",
    "for i in range(num_return_sequences):\n",
    "    tokens = x[i, :max_length].tolist()\n",
    "    decoded = enc.decode(tokens)\n",
    "    print(f'\\n> {decoded}')"
   ]
  }
 ],
 "metadata": {
  "kernelspec": {
   "display_name": "ml_cuda12.2",
   "language": "python",
   "name": "python3"
  },
  "language_info": {
   "codemirror_mode": {
    "name": "ipython",
    "version": 3
   },
   "file_extension": ".py",
   "mimetype": "text/x-python",
   "name": "python",
   "nbconvert_exporter": "python",
   "pygments_lexer": "ipython3",
   "version": "3.12.9"
  }
 },
 "nbformat": 4,
 "nbformat_minor": 5
}
